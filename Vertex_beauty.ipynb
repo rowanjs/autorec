{
 "cells": [
  {
   "cell_type": "code",
   "execution_count": 1,
   "id": "be1a234f-4468-4490-87d4-445999c78d1c",
   "metadata": {},
   "outputs": [
    {
     "name": "stdout",
     "output_type": "stream",
     "text": [
      "N: 1210271 M: 249274\n",
      "N // batch_size: 18910\n",
      "mu: 4.149055643156193\n"
     ]
    },
    {
     "name": "stderr",
     "output_type": "stream",
     "text": [
      "2021-10-24 14:57:56.863463: I tensorflow/stream_executor/cuda/cuda_gpu_executor.cc:937] successful NUMA node read from SysFS had negative value (-1), but there must be at least one NUMA node, so returning NUMA node zero\n",
      "2021-10-24 14:57:56.981048: I tensorflow/stream_executor/cuda/cuda_gpu_executor.cc:937] successful NUMA node read from SysFS had negative value (-1), but there must be at least one NUMA node, so returning NUMA node zero\n",
      "2021-10-24 14:57:56.982020: I tensorflow/stream_executor/cuda/cuda_gpu_executor.cc:937] successful NUMA node read from SysFS had negative value (-1), but there must be at least one NUMA node, so returning NUMA node zero\n",
      "2021-10-24 14:57:56.983622: I tensorflow/core/platform/cpu_feature_guard.cc:142] This TensorFlow binary is optimized with oneAPI Deep Neural Network Library (oneDNN) to use the following CPU instructions in performance-critical operations:  AVX2 FMA\n",
      "To enable them in other operations, rebuild TensorFlow with the appropriate compiler flags.\n",
      "2021-10-24 14:57:56.984867: I tensorflow/stream_executor/cuda/cuda_gpu_executor.cc:937] successful NUMA node read from SysFS had negative value (-1), but there must be at least one NUMA node, so returning NUMA node zero\n",
      "2021-10-24 14:57:56.985828: I tensorflow/stream_executor/cuda/cuda_gpu_executor.cc:937] successful NUMA node read from SysFS had negative value (-1), but there must be at least one NUMA node, so returning NUMA node zero\n",
      "2021-10-24 14:57:56.986609: I tensorflow/stream_executor/cuda/cuda_gpu_executor.cc:937] successful NUMA node read from SysFS had negative value (-1), but there must be at least one NUMA node, so returning NUMA node zero\n",
      "2021-10-24 14:57:58.977342: I tensorflow/stream_executor/cuda/cuda_gpu_executor.cc:937] successful NUMA node read from SysFS had negative value (-1), but there must be at least one NUMA node, so returning NUMA node zero\n",
      "2021-10-24 14:57:58.978178: I tensorflow/stream_executor/cuda/cuda_gpu_executor.cc:937] successful NUMA node read from SysFS had negative value (-1), but there must be at least one NUMA node, so returning NUMA node zero\n",
      "2021-10-24 14:57:58.978930: I tensorflow/stream_executor/cuda/cuda_gpu_executor.cc:937] successful NUMA node read from SysFS had negative value (-1), but there must be at least one NUMA node, so returning NUMA node zero\n",
      "2021-10-24 14:57:58.980555: I tensorflow/core/common_runtime/gpu/gpu_device.cc:1510] Created device /job:localhost/replica:0/task:0/device:GPU:0 with 10819 MB memory:  -> device: 0, name: Tesla K80, pci bus id: 0000:00:04.0, compute capability: 3.7\n",
      "/opt/conda/lib/python3.7/site-packages/keras/engine/training.py:1972: UserWarning: `Model.fit_generator` is deprecated and will be removed in a future version. Please use `Model.fit`, which supports generators.\n",
      "  warnings.warn('`Model.fit_generator` is deprecated and '\n",
      "2021-10-24 14:57:59.735360: I tensorflow/compiler/mlir/mlir_graph_optimization_pass.cc:185] None of the MLIR Optimization Passes are enabled (registered 2)\n"
     ]
    },
    {
     "name": "stdout",
     "output_type": "stream",
     "text": [
      "Epoch 1/5\n",
      "18911/18911 [==============================] - 13078s 691ms/step - loss: 1.6947 - custom_loss: 1.5884 - val_loss: 1.7053 - val_custom_loss: 1.6257\n",
      "Epoch 2/5\n",
      "18911/18911 [==============================] - 13063s 691ms/step - loss: 1.5823 - custom_loss: 1.4995 - val_loss: 1.6855 - val_custom_loss: 1.6116\n",
      "Epoch 3/5\n",
      "18911/18911 [==============================] - 13125s 694ms/step - loss: 1.5398 - custom_loss: 1.4658 - val_loss: 1.6755 - val_custom_loss: 1.6069\n",
      "Epoch 4/5\n",
      "18911/18911 [==============================] - 13082s 692ms/step - loss: 1.5099 - custom_loss: 1.4399 - val_loss: 1.6701 - val_custom_loss: 1.6037\n",
      "Epoch 5/5\n",
      "18911/18911 [==============================] - 13035s 689ms/step - loss: 1.4884 - custom_loss: 1.4193 - val_loss: 1.6701 - val_custom_loss: 1.6016\n",
      "dict_keys(['loss', 'custom_loss', 'val_loss', 'val_custom_loss'])\n"
     ]
    },
    {
     "data": {
      "image/png": "[encoded data removed]",
      "text/plain": [
       "<Figure size 432x288 with 1 Axes>"
      ]
     },
     "metadata": {
      "needs_background": "light"
     },
     "output_type": "display_data"
    },
    {
     "data": {
      "image/png": "[encoded data removed]",
      "text/plain": [
       "<Figure size 432x288 with 1 Axes>"
      ]
     },
     "metadata": {
      "needs_background": "light"
     },
     "output_type": "display_data"
    }
   ],
   "source": [
    "import numpy as np\n",
    "import pandas as pd\n",
    "import matplotlib.pyplot as plt\n",
    "from sklearn.utils import shuffle\n",
    "from scipy.sparse import save_npz, load_npz\n",
    "\n",
    "import keras.backend as K\n",
    "from keras.models import Model\n",
    "from keras.layers import Input, Dropout, Dense\n",
    "from keras.regularizers import l2\n",
    "from tensorflow.keras.optimizers import SGD\n",
    "\n",
    "# config\n",
    "batch_size = 64\n",
    "epochs = 5\n",
    "reg = 0.0001\n",
    "# reg = 0\n",
    "\n",
    "A = load_npz(\"Atrain_beauty.npz\")\n",
    "A_test = load_npz(\"Atest_beauty.npz\")\n",
    "mask = (A > 0) * 1.0\n",
    "mask_test = (A_test > 0) * 1.0\n",
    "\n",
    "# make copies since we will shuffle\n",
    "A_copy = A.copy()\n",
    "mask_copy = mask.copy()\n",
    "A_test_copy = A_test.copy()\n",
    "mask_test_copy = mask_test.copy()\n",
    "\n",
    "N, M = A.shape\n",
    "print(\"N:\", N, \"M:\", M)\n",
    "print(\"N // batch_size:\", N // batch_size)\n",
    "\n",
    "# center the data\n",
    "mu = A.sum() / mask.sum()\n",
    "print(\"mu:\", mu)\n",
    "\n",
    "\n",
    "\n",
    "# build the model - just a 1 hidden layer autoencoder\n",
    "i = Input(shape=(M,))\n",
    "# bigger hidden layer size seems to help!\n",
    "x = Dropout(0.7)(i)\n",
    "x = Dense(700, activation='tanh', kernel_regularizer=l2(reg))(x)\n",
    "# x = Dropout(0.5)(x)\n",
    "x = Dense(M, kernel_regularizer=l2(reg))(x)\n",
    "\n",
    "\n",
    "\n",
    "def custom_loss(y_true, y_pred):\n",
    "  mask = K.cast(K.not_equal(y_true, 0), dtype='float32')\n",
    "  diff = y_pred - y_true\n",
    "  sqdiff = diff * diff * mask\n",
    "  sse = K.sum(K.sum(sqdiff))\n",
    "  n = K.sum(K.sum(mask))\n",
    "  return sse / n\n",
    "\n",
    "\n",
    "def generator(A, M):\n",
    "  while True:\n",
    "    A, M = shuffle(A, M)\n",
    "    for i in range(A.shape[0] // batch_size + 1):\n",
    "      upper = min((i+1)*batch_size, A.shape[0])\n",
    "      a = A[i*batch_size:upper].toarray()\n",
    "      m = M[i*batch_size:upper].toarray()\n",
    "      a = a - mu * m # must keep zeros at zero!\n",
    "      # m2 = (np.random.random(a.shape) > 0.5)\n",
    "      # noisy = a * m2\n",
    "      noisy = a # no noise\n",
    "      yield noisy, a\n",
    "\n",
    "\n",
    "def test_generator(A, M, A_test, M_test):\n",
    "  # assumes A and A_test are in corresponding order\n",
    "  # both of size N x M\n",
    "  while True:\n",
    "    for i in range(A.shape[0] // batch_size + 1):\n",
    "      upper = min((i+1)*batch_size, A.shape[0])\n",
    "      a = A[i*batch_size:upper].toarray()\n",
    "      m = M[i*batch_size:upper].toarray()\n",
    "      at = A_test[i*batch_size:upper].toarray()\n",
    "      mt = M_test[i*batch_size:upper].toarray()\n",
    "      a = a - mu * m\n",
    "      at = at - mu * mt\n",
    "      yield a, at\n",
    "\n",
    "\n",
    "\n",
    "model = Model(i, x)\n",
    "model.compile(\n",
    "  loss=custom_loss,\n",
    "  optimizer=SGD(learning_rate=0.08, momentum=0.9),\n",
    "  # optimizer='adam',\n",
    "  metrics=[custom_loss],\n",
    ")\n",
    "\n",
    "\n",
    "r = model.fit_generator(\n",
    "  generator(A, mask),\n",
    "  validation_data=test_generator(A_copy, mask_copy, A_test_copy, mask_test_copy),\n",
    "  epochs=epochs,\n",
    "  steps_per_epoch=A.shape[0] // batch_size + 1,\n",
    "  validation_steps=A_test.shape[0] // batch_size + 1,\n",
    ")\n",
    "print(r.history.keys())\n",
    "\n",
    "\n",
    "\n",
    "# plot losses\n",
    "plt.plot(r.history['loss'], label=\"train loss\")\n",
    "plt.plot(r.history['val_loss'], label=\"test loss\")\n",
    "plt.legend()\n",
    "plt.show()\n",
    "\n",
    "# plot mse\n",
    "plt.plot(r.history['custom_loss'], label=\"train mse\")\n",
    "plt.plot(r.history['val_custom_loss'], label=\"test mse\")\n",
    "plt.legend()\n",
    "plt.show()"
   ]
  },
  {
   "cell_type": "code",
   "execution_count": 4,
   "id": "9326df0d-ef92-48cc-9363-55294d948838",
   "metadata": {},
   "outputs": [],
   "source": [
    "model.save('autorec.h5')"
   ]
  },
  {
   "cell_type": "code",
   "execution_count": null,
   "id": "311aedb3-7223-4187-9fe1-07058ea93891",
   "metadata": {},
   "outputs": [],
   "source": []
  }
 ],
 "metadata": {
  "environment": {
   "name": "tf2-gpu.2-6.m81",
   "type": "gcloud",
   "uri": "gcr.io/deeplearning-platform-release/tf2-gpu.2-6:m81"
  },
  "kernelspec": {
   "display_name": "Python 3",
   "language": "python",
   "name": "python3"
  },
  "language_info": {
   "codemirror_mode": {
    "name": "ipython",
    "version": 3
   },
   "file_extension": ".py",
   "mimetype": "text/x-python",
   "name": "python",
   "nbconvert_exporter": "python",
   "pygments_lexer": "ipython3",
   "version": "3.8.8"
  }
 },
 "nbformat": 4,
 "nbformat_minor": 5
}
